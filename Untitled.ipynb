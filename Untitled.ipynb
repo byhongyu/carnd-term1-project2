{
 "cells": [
  {
   "cell_type": "code",
   "execution_count": 1,
   "metadata": {
    "collapsed": true
   },
   "outputs": [],
   "source": [
    "from numpy import *\n",
    "from numpy.random import *\n",
    "\n",
    "\n",
    "def resample(weights):\n",
    "  n = len(weights)\n",
    "  indices = []\n",
    "  C = [0.] + [sum(weights[:i+1]) for i in range(n)]\n",
    "  u0, j = random(), 0\n",
    "  for u in [(u0+i)/n for i in range(n)]:\n",
    "    while u > C[j]:\n",
    "      j+=1\n",
    "    indices.append(j-1)\n",
    "  return indices\n",
    "\n",
    "\n",
    "def particlefilter(sequence, pos, stepsize, n):\n",
    "  seq = iter(sequence)\n",
    "  x = ones((n, 2), int) * pos                   # Initial position\n",
    "  f0 = seq.next()[tuple(pos)] * ones(n)         # Target colour model\n",
    "  yield pos, x, ones(n)/n                       # Return expected position, particles and weights\n",
    "  for im in seq:\n",
    "    np.add(x, uniform(-stepsize, stepsize, x.shape), out=x, casting=\"unsafe\")  # Particle motion model: uniform step\n",
    "    x  = x.clip(zeros(2), array(im.shape)-1).astype(int) # Clip out-of-bounds particles\n",
    "    f  = im[tuple(x.T)]                         # Measure particle colours\n",
    "    w  = 1./(1. + (f0-f)**2)                    # Weight~ inverse quadratic colour distance\n",
    "    w /= sum(w)                                 # Normalize w\n",
    "    yield sum(x.T*w, axis=1), x, w              # Return expected position, particles and weights\n",
    "    if 1./sum(w**2) < n/2.:                     # If particle cloud degenerate:\n",
    "      x  = x[resample(w),:]                     # Resample particles according to weights"
   ]
  },
  {
   "cell_type": "code",
   "execution_count": 2,
   "metadata": {},
   "outputs": [
    {
     "ename": "ImportError",
     "evalue": "cannot import name 'izip'",
     "output_type": "error",
     "traceback": [
      "\u001b[0;31m---------------------------------------------------------------------------\u001b[0m",
      "\u001b[0;31mImportError\u001b[0m                               Traceback (most recent call last)",
      "\u001b[0;32m<ipython-input-2-eabad5f1be01>\u001b[0m in \u001b[0;36m<module>\u001b[0;34m()\u001b[0m\n\u001b[1;32m      1\u001b[0m \u001b[0;32mif\u001b[0m \u001b[0m__name__\u001b[0m \u001b[0;34m==\u001b[0m \u001b[0;34m\"__main__\"\u001b[0m\u001b[0;34m:\u001b[0m\u001b[0;34m\u001b[0m\u001b[0m\n\u001b[1;32m      2\u001b[0m   \u001b[0;32mfrom\u001b[0m \u001b[0mpylab\u001b[0m \u001b[0;32mimport\u001b[0m \u001b[0;34m*\u001b[0m\u001b[0;34m\u001b[0m\u001b[0m\n\u001b[0;32m----> 3\u001b[0;31m   \u001b[0;32mfrom\u001b[0m \u001b[0mitertools\u001b[0m \u001b[0;32mimport\u001b[0m \u001b[0mizip\u001b[0m\u001b[0;34m\u001b[0m\u001b[0m\n\u001b[0m\u001b[1;32m      4\u001b[0m   \u001b[0;32mimport\u001b[0m \u001b[0mtime\u001b[0m\u001b[0;34m\u001b[0m\u001b[0m\n\u001b[1;32m      5\u001b[0m   \u001b[0;32mfrom\u001b[0m \u001b[0mIPython\u001b[0m \u001b[0;32mimport\u001b[0m \u001b[0mdisplay\u001b[0m\u001b[0;34m\u001b[0m\u001b[0m\n",
      "\u001b[0;31mImportError\u001b[0m: cannot import name 'izip'"
     ]
    }
   ],
   "source": [
    "if __name__ == \"__main__\":\n",
    "  from pylab import *\n",
    "  from itertools import izip\n",
    "  import time\n",
    "  from IPython import display\n",
    "\n",
    "  ion()\n",
    "  seq = [ im for im in zeros((20,240,320), int)]      # Create an image sequence of 20 frames long\n",
    "  x0 = array([120, 160])                              # Add a square with starting position x0 moving along trajectory xs\n",
    "  xs = vstack((arange(20)*3, arange(20)*2)).T + x0\n",
    "  for t, x in enumerate(xs):\n",
    "    xslice = slice(x[0]-8, x[0]+8)\n",
    "    yslice = slice(x[1]-8, x[1]+8)\n",
    "    seq[t][xslice, yslice] = 255\n",
    "\n",
    "  for im, p in izip(seq, particlefilter(seq, x0, 8, 100)): # Track the square through the sequence\n",
    "    pos, xs, ws = p\n",
    "    position_overlay = zeros_like(im)\n",
    "    position_overlay[np.array(pos).astype(int)] = 1\n",
    "    particle_overlay = zeros_like(im)\n",
    "    particle_overlay[tuple(xs.T)] = 1\n",
    "    draw()\n",
    "    time.sleep(0.3)\n",
    "    clf()                                           # Causes flickering, but without the spy plots aren't overwritten\n",
    "    imshow(im,cmap=cm.gray)                         # Plot the image\n",
    "    spy(position_overlay, marker='.', color='b')    # Plot the expected position\n",
    "    spy(particle_overlay, marker=',', color='r')    # Plot the particles\n",
    "    display.clear_output(wait=True)\n",
    "    display.display(show())"
   ]
  },
  {
   "cell_type": "code",
   "execution_count": 3,
   "metadata": {},
   "outputs": [
    {
     "ename": "ImportError",
     "evalue": "cannot import name 'izip'",
     "output_type": "error",
     "traceback": [
      "\u001b[0;31m---------------------------------------------------------------------------\u001b[0m",
      "\u001b[0;31mImportError\u001b[0m                               Traceback (most recent call last)",
      "\u001b[0;32m<ipython-input-3-e1e6597ef5d6>\u001b[0m in \u001b[0;36m<module>\u001b[0;34m()\u001b[0m\n\u001b[0;32m----> 1\u001b[0;31m \u001b[0;32mfrom\u001b[0m \u001b[0mitertools\u001b[0m \u001b[0;32mimport\u001b[0m \u001b[0mizip\u001b[0m\u001b[0;34m\u001b[0m\u001b[0m\n\u001b[0m",
      "\u001b[0;31mImportError\u001b[0m: cannot import name 'izip'"
     ]
    }
   ],
   "source": [
    "from itertools import izip\n"
   ]
  },
  {
   "cell_type": "code",
   "execution_count": 4,
   "metadata": {},
   "outputs": [
    {
     "name": "stdout",
     "output_type": "stream",
     "text": [
      "\n",
      "The following command must be run outside of the IPython shell:\n",
      "\n",
      "    $ pip install itertools\n",
      "\n",
      "The Python package manager (pip) can only be used from outside of IPython.\n",
      "Please reissue the `pip` command in a separate terminal or command prompt.\n",
      "\n",
      "See the Python documentation for more informations on how to install packages:\n",
      "\n",
      "    https://docs.python.org/3/installing/\n"
     ]
    }
   ],
   "source": [
    "pip install itertools\n"
   ]
  },
  {
   "cell_type": "code",
   "execution_count": null,
   "metadata": {
    "collapsed": true
   },
   "outputs": [],
   "source": []
  }
 ],
 "metadata": {
  "kernelspec": {
   "display_name": "Python 3",
   "language": "python",
   "name": "python3"
  },
  "language_info": {
   "codemirror_mode": {
    "name": "ipython",
    "version": 3
   },
   "file_extension": ".py",
   "mimetype": "text/x-python",
   "name": "python",
   "nbconvert_exporter": "python",
   "pygments_lexer": "ipython3",
   "version": "3.5.2"
  },
  "widgets": {
   "state": {},
   "version": "1.1.2"
  }
 },
 "nbformat": 4,
 "nbformat_minor": 2
}
